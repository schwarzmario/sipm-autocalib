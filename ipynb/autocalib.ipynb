{
 "cells": [
  {
   "cell_type": "markdown",
   "id": "f053ebd2",
   "metadata": {},
   "source": [
    "# Autocalibration interactive using autocalibrator.py"
   ]
  },
  {
   "cell_type": "code",
   "execution_count": null,
   "id": "d6392a38",
   "metadata": {},
   "outputs": [],
   "source": [
    "%matplotlib inline\n",
    "\n",
    "import sys\n",
    "sys.path.append(\"../bin\")\n",
    "\n",
    "import glob\n",
    "import os\n",
    "from collections.abc import Callable, Sequence, Iterator, Mapping\n",
    "from abc import ABC, abstractmethod\n",
    "from typing import Any\n",
    "\n",
    "import matplotlib.pyplot as plt\n",
    "from matplotlib.figure import Figure\n",
    "from matplotlib.axes import Axes\n",
    "\n",
    "import numpy as np\n",
    "import awkward as ak\n",
    "\n",
    "from lgdo import lh5\n",
    "from lgdo.lh5.exceptions import LH5DecodeError\n",
    "from legendmeta import LegendMetadata\n",
    "from dspeed.processors import get_multi_local_extrema\n",
    "\n",
    "from autocalibrator import *\n",
    "\n",
    "plt.rcParams[\"figure.figsize\"] = (10, 4)\n",
    "\n",
    "proj_dir = \"/mnt/atlas02/projects/legend/sipm_qc\"\n",
    "lmeta  = LegendMetadata(os.path.join(proj_dir, \"metadata/legend-metadata-schwarz\"))\n",
    "chmap = lmeta.channelmap(\"20250807T150028Z\")\n",
    "chmap_sipm = chmap.map(\"system\", unique=False).spms\n",
    "#requires recent legend-datasets\n",
    "raw_keys = chmap_sipm.map(\"analysis.usability\", unique=False).on.map(\"daq.rawid\").keys()"
   ]
  },
  {
   "cell_type": "code",
   "execution_count": null,
   "id": "06b39e5f",
   "metadata": {},
   "outputs": [],
   "source": [
    "raw_dir = os.path.join(proj_dir, \"data/tier/raw/phy/p15/r004_part\")\n",
    "dsp_dir = os.path.join(proj_dir, \"manual_dsp/generated/p15r004dsp_part\")\n",
    "orig_dsp_dir = os.path.join(proj_dir, \"data/tier/dsp/phy/p15/r004\")\n",
    "dsp_files = glob.glob(dsp_dir+\"/l200-*-tier_dsp.lh5\")\n",
    "dsp_files.sort()\n",
    "def gimme_raw_filename_from_dsp(dspfilename: str):\n",
    "    return dspfilename.replace(dsp_dir, raw_dir).replace(\"tier_dsp\", \"tier_raw\")\n",
    "def gimme_orig_dsp_filename(dspfilename: str):\n",
    "    # get the original dsp files so I get pulser info\n",
    "    return dspfilename.replace(dsp_dir, orig_dsp_dir)"
   ]
  },
  {
   "cell_type": "markdown",
   "id": "33a1760b",
   "metadata": {},
   "source": [
    "# Check uncalibrated spectra"
   ]
  },
  {
   "cell_type": "code",
   "execution_count": null,
   "id": "f0fdee0e",
   "metadata": {},
   "outputs": [],
   "source": [
    "energies = get_energies(dsp_files, raw_keys, chmap, orig_dsp_file=[gimme_orig_dsp_filename(dsp) for dsp in dsp_files])"
   ]
  },
  {
   "cell_type": "code",
   "execution_count": null,
   "id": "d46a79aa",
   "metadata": {},
   "outputs": [],
   "source": [
    "fig, ax = plt.subplots()\n",
    "ax.set_yscale('log')\n",
    "ax.stairs(*gen_hist_by_range(get_energies(dsp_files, raw_keys, chmap)[\"S002\"], (0,50)))\n",
    "ax.stairs(*gen_hist_by_range(get_energies(list(map(gimme_orig_dsp_filename, dsp_files)), raw_keys, chmap)[\"S002\"], (0,50)))"
   ]
  },
  {
   "cell_type": "code",
   "execution_count": null,
   "id": "b7266fa3",
   "metadata": {},
   "outputs": [],
   "source": [
    "#plot_all_pe_spectra(get_energies(gimme_orig_dsp_filename(dsp_files[0]), list(raw_keys), chmap))\n",
    "#plot_all_pe_spectra(get_energies(list(map(gimme_orig_dsp_filename, dsp_files)), list(raw_keys), chmap))\n",
    "_ = plot_all_pe_spectra(energies)"
   ]
  },
  {
   "cell_type": "markdown",
   "id": "11163786",
   "metadata": {},
   "source": [
    "# Simple calibration"
   ]
  },
  {
   "cell_type": "code",
   "execution_count": null,
   "id": "dc0db901",
   "metadata": {},
   "outputs": [],
   "source": [
    "# Default inputs\n",
    "peakfinder_defaults = {\n",
    "    \"a_delta_min_in\": 5e-3,\n",
    "    \"a_delta_max_in\": 5e-3,\n",
    "    \"search_direction\": 3,\n",
    "    \"a_abs_min_in\": 1000,\n",
    "    \"a_abs_max_in\": 1e-4,\n",
    "    \"min_peak_dist\": 6,\n",
    "    \"peakdist_compare_margin\": 1,\n",
    "    \"strict\": True\n",
    "}"
   ]
  },
  {
   "cell_type": "code",
   "execution_count": null,
   "id": "5c3e17cb",
   "metadata": {},
   "outputs": [],
   "source": [
    "fig, ax = plt.subplots()\n",
    "ax.set_yscale('log')\n",
    "simple_calibration(energies[\"S007\"], {\"quantile\": 0.98, \"nbins\": 200}, peakfinder_defaults,\n",
    "                   {}, ax=ax)"
   ]
  },
  {
   "cell_type": "code",
   "execution_count": null,
   "id": "d3687aeb",
   "metadata": {},
   "outputs": [],
   "source": [
    "fig, ax = plt.subplots()\n",
    "ax.set_yscale('log')\n",
    "simple_calibration(energies[\"S090\"], {\"quantile\": 0.98, \"nbins\": 200}, peakfinder_defaults | {\"double_peak\": True}, {}, ax=ax)"
   ]
  },
  {
   "cell_type": "code",
   "execution_count": null,
   "id": "78c35d9f",
   "metadata": {},
   "outputs": [],
   "source": [
    "peakfinder_overrides={\n",
    "    \"S046\": {\"a_delta_min_in\": 8e-3, \"a_delta_max_in\": 8e-3,},\n",
    "    \"S015\": {\"a_delta_min_in\": 1e-2, \"a_delta_max_in\": 2e-2,},\n",
    "    \"S083\": {\"double_peak\": True},\n",
    "    \"S090\": {\"double_peak\": True},\n",
    "    \"S095\": {\"double_peak\": True},\n",
    "    \"S096\": {\"double_peak\": True, \"a_delta_min_in\": 1e-3, \"a_delta_max_in\": 1e-3,},\n",
    "    \"S098\": {\"double_peak\": True},\n",
    "}"
   ]
  },
  {
   "cell_type": "code",
   "execution_count": null,
   "id": "6d4f9ef6",
   "metadata": {},
   "outputs": [],
   "source": [
    "gen_hist_defaults = {\"quantile\": 0.98, \"nbins\": 200}"
   ]
  },
  {
   "cell_type": "code",
   "execution_count": null,
   "id": "339f4275",
   "metadata": {},
   "outputs": [],
   "source": [
    "simple_calib_output, _, _ = multi_simple_calibration(energies, gen_hist_defaults, peakfinder_defaults, {}, peakfinder_overrides=peakfinder_overrides, draw=True, nodraw_axes=True)"
   ]
  },
  {
   "cell_type": "code",
   "execution_count": null,
   "id": "22026a33",
   "metadata": {},
   "outputs": [],
   "source": [
    "calibrated_histos = get_calibrated_histograms(energies, simple_calib_output, (0, 5), 200)\n",
    "_ = plot_all_pe_histograms(calibrated_histos)"
   ]
  },
  {
   "cell_type": "code",
   "execution_count": null,
   "id": "05dd0702",
   "metadata": {},
   "outputs": [],
   "source": [
    "get_calibrated_PE_positions(simple_calib_output)"
   ]
  },
  {
   "cell_type": "code",
   "execution_count": null,
   "id": "4b010310",
   "metadata": {},
   "outputs": [],
   "source": [
    "advanced_calib_params_defaults = {\n",
    "    \"max_nr_gausspeaks\": 3,\n",
    "    \"fit_range_prePE\": 0.5,\n",
    "    \"fit_range_pastPE\": 0.8,\n",
    "    \"model\": \"combo\",\n",
    "    \"gauss_mean_range_low\": 0.5,\n",
    "    \"gauss_mean_range_high\": 0.5,\n",
    "}"
   ]
  },
  {
   "cell_type": "code",
   "execution_count": null,
   "id": "28720df3",
   "metadata": {},
   "outputs": [],
   "source": [
    "fig, ax = plt.subplots()\n",
    "ax.set_yscale('log')\n",
    "SiPM = \"S095\"\n",
    "advanced_calibration(calibrated_histos[SiPM], get_calibrated_PE_positions(simple_calib_output)[SiPM], advanced_calib_params_defaults | {\"fit_range_prePE\": 0.5, \"fit_range_pastPE\": 0.6}, ax=ax, verbosity=100)"
   ]
  },
  {
   "cell_type": "code",
   "execution_count": null,
   "id": "d222ac5b",
   "metadata": {},
   "outputs": [],
   "source": [
    "advanced_calib_params_overrides = {\n",
    "    \"S040\": {\"fit_range_pastPE\": 0.9},\n",
    "    \"S050\": {\"fit_range_pastPE\": 1.1, \"gauss_mean_range_high\": 0.5, \"model\": \"individual\"},\n",
    "    \"S070\": {\"fit_range_prePE\": 0.2, \"fit_range_pastPE\": 0.5},\n",
    "    \"S080\": {\"fit_range_prePE\": 0.2, \"fit_range_pastPE\": 1.0, \"gauss_mean_range_high\": 1.5},\n",
    "    \"S083\": {\"fit_range_pastPE\": 0.5},\n",
    "    \"S085\": {\"fit_range_prePE\": 0.2},\n",
    "    \"S095\": {\"fit_range_pastPE\": 0.6},\n",
    "    \"S096\": {\"fit_range_prePE\": 0.2, \"fit_range_pastPE\": 0.4},\n",
    "}"
   ]
  },
  {
   "cell_type": "code",
   "execution_count": null,
   "id": "9cd69f43",
   "metadata": {},
   "outputs": [],
   "source": [
    "advanced_calib_output, _, _ = multi_advanced_calibration(calibrated_histos, get_calibrated_PE_positions(simple_calib_output), advanced_calib_params_defaults, calibration_overrides=advanced_calib_params_overrides, draw=True)"
   ]
  },
  {
   "cell_type": "code",
   "execution_count": null,
   "id": "603cca2b",
   "metadata": {},
   "outputs": [],
   "source": [
    "adv_calibrated_histos = get_calibrated_histograms(energies, combine_multiple_calibrations(simple_calib_output, advanced_calib_output), (0, 5), 200)\n",
    "_ = plot_all_pe_histograms(adv_calibrated_histos, gridx=True)"
   ]
  },
  {
   "cell_type": "markdown",
   "id": "2f8a1f6b",
   "metadata": {},
   "source": [
    "### And now let's chain it all together!"
   ]
  },
  {
   "cell_type": "code",
   "execution_count": null,
   "id": "c839aa02",
   "metadata": {},
   "outputs": [],
   "source": [
    "if False:\n",
    "    full_calibration_chain(\n",
    "        energies, \n",
    "        gen_hist_defaults=gen_hist_defaults, \n",
    "        peakfinder_defaults=peakfinder_defaults, \n",
    "        simple_calibration_defaults={}, \n",
    "        advanced_calibration_defaults=advanced_calib_params_defaults,\n",
    "        peakfinder_overrides=peakfinder_overrides,\n",
    "        advanced_calibration_overrides=advanced_calib_params_overrides,\n",
    "        plot_interactive=True\n",
    "    )"
   ]
  },
  {
   "cell_type": "markdown",
   "id": "3387776b",
   "metadata": {},
   "source": [
    "### Output config yaml for later reference"
   ]
  },
  {
   "cell_type": "code",
   "execution_count": null,
   "id": "e40662d3",
   "metadata": {},
   "outputs": [],
   "source": [
    "store_config_file(\"../config/temp.yaml\", \n",
    "    gen_hist_defaults=gen_hist_defaults, \n",
    "    peakfinder_defaults=peakfinder_defaults, \n",
    "    simple_calibration_defaults={}, \n",
    "    advanced_calibration_defaults=advanced_calib_params_defaults,\n",
    "    peakfinder_overrides=peakfinder_overrides,\n",
    "    advanced_calibration_overrides=advanced_calib_params_overrides)"
   ]
  }
 ],
 "metadata": {
  "kernelspec": {
   "display_name": "SiPM QC Analysis",
   "language": "python",
   "name": "sipm_qc_ana"
  },
  "language_info": {
   "codemirror_mode": {
    "name": "ipython",
    "version": 3
   },
   "file_extension": ".py",
   "mimetype": "text/x-python",
   "name": "python",
   "nbconvert_exporter": "python",
   "pygments_lexer": "ipython3",
   "version": "3.12.10"
  }
 },
 "nbformat": 4,
 "nbformat_minor": 5
}
