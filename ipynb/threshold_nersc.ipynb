{
 "cells": [
  {
   "cell_type": "markdown",
   "id": "f053ebd2",
   "metadata": {},
   "source": [
    "# Automatic finding of thresholds of already calibrated data"
   ]
  },
  {
   "cell_type": "markdown",
   "id": "9f6ce512",
   "metadata": {},
   "source": [
    "### ... on NERSC!"
   ]
  },
  {
   "cell_type": "code",
   "execution_count": null,
   "id": "d6392a38",
   "metadata": {},
   "outputs": [],
   "source": [
    "%matplotlib inline\n",
    "\n",
    "import glob\n",
    "import os\n",
    "from collections.abc import Callable, Sequence, Iterator, Mapping\n",
    "from abc import ABC, abstractmethod\n",
    "from typing import Any\n",
    "\n",
    "import matplotlib.pyplot as plt\n",
    "from matplotlib.figure import Figure\n",
    "from matplotlib.axes import Axes\n",
    "\n",
    "import numpy as np\n",
    "import awkward as ak\n",
    "\n",
    "from lgdo import lh5\n",
    "from lgdo.lh5.exceptions import LH5DecodeError\n",
    "from legendmeta import LegendMetadata\n",
    "from dspeed.processors import get_multi_local_extrema\n",
    "\n",
    "from sipm_autocalib import *\n",
    "\n",
    "plt.rcParams[\"figure.figsize\"] = (10, 4)"
   ]
  },
  {
   "cell_type": "code",
   "execution_count": null,
   "id": "06b39e5f",
   "metadata": {},
   "outputs": [],
   "source": [
    "# metadata dir has to be declared save git directory\n",
    "\n",
    "base_dir = \"/global/cfs/cdirs/m2676/data/lngs/l200/public/prodenv/prod-blind/tmp-auto\"\n",
    "dsp_dir = os.path.join(base_dir, \"generated/tier/dsp/phy/p16/r000\")\n",
    "dsp_files = glob.glob(dsp_dir+\"/l200-*-tier_dsp.lh5\")\n",
    "dsp_files.sort()\n",
    "assert len(dsp_files) > 0\n",
    "dsp_files = dsp_files[:50]\n",
    "lmeta  = LegendMetadata(os.path.join(base_dir, \"inputs\"))\n",
    "chmap = lmeta.channelmap(get_timestamp_from_filename(dsp_files[0]))\n",
    "chmap_sipm = chmap.map(\"system\", unique=False).spms\n",
    "#requires recent legend-datasets\n",
    "raw_keys = chmap_sipm.map(\"analysis.usability\", unique=False).on.map(\"daq.rawid\").keys()\n",
    "onlythese = [\"S037\", \"S050\", \"S051\", \"S054\", \"S080\", \"S083\", \"S095\"]\n",
    "if len(onlythese) > 0:\n",
    "    raw_keys = [chmap[k].daq.rawid for k in onlythese]"
   ]
  },
  {
   "cell_type": "code",
   "execution_count": null,
   "id": "f0fdee0e",
   "metadata": {},
   "outputs": [],
   "source": [
    "energies = get_energies(dsp_files, raw_keys, chmap, take_pulser_from_normal=True)"
   ]
  },
  {
   "cell_type": "code",
   "execution_count": null,
   "id": "b9fcf62c",
   "metadata": {},
   "outputs": [],
   "source": [
    "calib, thresholds = read_override_file(\"../out/p15_ovr.yaml\")\n",
    "calib_p16, _ = read_override_file(\"../out/p16_ovr.yaml\")\n",
    "calib = calib | calib_p16 # merge re-calibrated SiPMs in\n"
   ]
  },
  {
   "cell_type": "code",
   "execution_count": null,
   "id": "064b6a72",
   "metadata": {},
   "outputs": [],
   "source": [
    "calibrated_histos = get_calibrated_histograms(energies, calib, (0,5), 200)\n",
    "thresholds = multi_valley_minima(calibrated_histos, mimimum_position=0.4) # compute new thresholds\n",
    "_ = plot_all_pe_histograms_and_thresholds(calibrated_histos, thresholds, gridx=True)"
   ]
  },
  {
   "cell_type": "code",
   "execution_count": null,
   "id": "e8b009e5",
   "metadata": {},
   "outputs": [],
   "source": [
    "if False:\n",
    "    output_override_file(\"../config/temp_overridex.yaml\", calib, thresholds)\n",
    "if True:\n",
    "    update_override_file(\"../out/p16_ovr.yaml\", \"../out/newp16_ovr.yaml\", None, thresholds)"
   ]
  },
  {
   "cell_type": "code",
   "execution_count": null,
   "id": "88856c66",
   "metadata": {},
   "outputs": [],
   "source": []
  }
 ],
 "metadata": {
  "kernelspec": {
   "display_name": ".venv (3.12.9)",
   "language": "python",
   "name": "python3"
  },
  "language_info": {
   "codemirror_mode": {
    "name": "ipython",
    "version": 3
   },
   "file_extension": ".py",
   "mimetype": "text/x-python",
   "name": "python",
   "nbconvert_exporter": "python",
   "pygments_lexer": "ipython3",
   "version": "3.12.9"
  }
 },
 "nbformat": 4,
 "nbformat_minor": 5
}
