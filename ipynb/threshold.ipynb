{
 "cells": [
  {
   "cell_type": "markdown",
   "id": "f053ebd2",
   "metadata": {},
   "source": [
    "# Automatic finding of thresholds of already calibrated data"
   ]
  },
  {
   "cell_type": "code",
   "execution_count": null,
   "id": "d6392a38",
   "metadata": {},
   "outputs": [],
   "source": [
    "%matplotlib inline\n",
    "\n",
    "import glob\n",
    "import os\n",
    "from collections.abc import Callable, Sequence, Iterator, Mapping\n",
    "from abc import ABC, abstractmethod\n",
    "from typing import Any\n",
    "\n",
    "import matplotlib.pyplot as plt\n",
    "from matplotlib.figure import Figure\n",
    "from matplotlib.axes import Axes\n",
    "\n",
    "import numpy as np\n",
    "import awkward as ak\n",
    "\n",
    "from lgdo import lh5\n",
    "from lgdo.lh5.exceptions import LH5DecodeError\n",
    "from legendmeta import LegendMetadata\n",
    "from dspeed.processors import get_multi_local_extrema\n",
    "\n",
    "from sipm_autocalib import *\n",
    "\n",
    "plt.rcParams[\"figure.figsize\"] = (10, 4)\n",
    "\n",
    "proj_dir = \"/mnt/atlas02/projects/legend/sipm_qc\"\n",
    "lmeta  = LegendMetadata(os.path.join(proj_dir, \"metadata/legend-metadata-schwarz\"))\n",
    "chmap = lmeta.channelmap(\"20250807T150028Z\")\n",
    "chmap_sipm = chmap.map(\"system\", unique=False).spms\n",
    "#requires recent legend-datasets\n",
    "raw_keys = chmap_sipm.map(\"analysis.usability\", unique=False).on.map(\"daq.rawid\").keys()"
   ]
  },
  {
   "cell_type": "code",
   "execution_count": null,
   "id": "06b39e5f",
   "metadata": {},
   "outputs": [],
   "source": [
    "raw_dir = os.path.join(proj_dir, \"data/tier/raw/phy/p15/r004_part\")\n",
    "dsp_dir = os.path.join(proj_dir, \"manual_dsp/generated/p15r004dsp_part\")\n",
    "orig_dsp_dir = os.path.join(proj_dir, \"data/tier/dsp/phy/p15/r004\")\n",
    "dsp_files = glob.glob(dsp_dir+\"/l200-*-tier_dsp.lh5\")\n",
    "dsp_files.sort()\n",
    "def gimme_raw_filename_from_dsp(dspfilename: str):\n",
    "    return dspfilename.replace(dsp_dir, raw_dir).replace(\"tier_dsp\", \"tier_raw\")\n",
    "def gimme_orig_dsp_filename(dspfilename: str):\n",
    "    # get the original dsp files so I get pulser info\n",
    "    return dspfilename.replace(dsp_dir, orig_dsp_dir)"
   ]
  },
  {
   "cell_type": "code",
   "execution_count": null,
   "id": "f0fdee0e",
   "metadata": {},
   "outputs": [],
   "source": [
    "energies = get_energies(dsp_files, raw_keys, chmap, orig_dsp_file=[gimme_orig_dsp_filename(dsp) for dsp in dsp_files])"
   ]
  },
  {
   "cell_type": "code",
   "execution_count": null,
   "id": "b9fcf62c",
   "metadata": {},
   "outputs": [],
   "source": [
    "calib, _ = read_override_file(\"../config/l200-p15-r004-lar-T%-par_hit-overwrite.yaml\")"
   ]
  },
  {
   "cell_type": "code",
   "execution_count": null,
   "id": "064b6a72",
   "metadata": {},
   "outputs": [],
   "source": [
    "calibrated_histos = get_calibrated_histograms(energies, calib, (0,5), 200)\n",
    "thresholds = multi_valley_minima(calibrated_histos, mimimum_position=0.4)\n",
    "_ = plot_all_pe_histograms_and_thresholds(calibrated_histos, thresholds, gridx=True)"
   ]
  },
  {
   "cell_type": "code",
   "execution_count": null,
   "id": "e8b009e5",
   "metadata": {},
   "outputs": [],
   "source": [
    "if True:\n",
    "    output_override_file(\"../config/temp_overridex.yaml\", calib, thresholds)"
   ]
  },
  {
   "cell_type": "code",
   "execution_count": null,
   "id": "88856c66",
   "metadata": {},
   "outputs": [],
   "source": []
  }
 ],
 "metadata": {
  "kernelspec": {
   "display_name": "sipm-autocalib (3.12.10)",
   "language": "python",
   "name": "python3"
  },
  "language_info": {
   "codemirror_mode": {
    "name": "ipython",
    "version": 3
   },
   "file_extension": ".py",
   "mimetype": "text/x-python",
   "name": "python",
   "nbconvert_exporter": "python",
   "pygments_lexer": "ipython3",
   "version": "3.12.10"
  }
 },
 "nbformat": 4,
 "nbformat_minor": 5
}
