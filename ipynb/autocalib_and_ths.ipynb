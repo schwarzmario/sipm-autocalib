{
 "cells": [
  {
   "cell_type": "markdown",
   "id": "7e6c6910",
   "metadata": {},
   "source": [
    "# (Semi-)Auto-calibration and threshold setting\n",
    "\n",
    "This is a brief notebook for checking previous calibrations, \n",
    "doing new calibrations (on all or a subset of SiPMs), \n",
    "setting thresholds and putting all this into an override file.\n",
    "\n",
    "See autocalib.ipynb for an extensive example of doing different checks"
   ]
  },
  {
   "cell_type": "code",
   "execution_count": null,
   "id": "577543e6",
   "metadata": {},
   "outputs": [],
   "source": [
    "%matplotlib inline\n",
    "\n",
    "import glob\n",
    "import os\n",
    "from collections.abc import Callable, Sequence, Iterator, Mapping\n",
    "from abc import ABC, abstractmethod\n",
    "from typing import Any\n",
    "\n",
    "import matplotlib.pyplot as plt\n",
    "from matplotlib.figure import Figure\n",
    "from matplotlib.axes import Axes\n",
    "\n",
    "import numpy as np\n",
    "import awkward as ak\n",
    "\n",
    "from lgdo import lh5\n",
    "from lgdo.lh5.exceptions import LH5DecodeError\n",
    "from legendmeta import LegendMetadata\n",
    "from dspeed.processors import get_multi_local_extrema\n",
    "\n",
    "from sipm_autocalib import *\n",
    "\n",
    "plt.rcParams[\"figure.figsize\"] = (10, 4)"
   ]
  },
  {
   "cell_type": "code",
   "execution_count": null,
   "id": "ab159967",
   "metadata": {},
   "outputs": [],
   "source": [
    "# metadata dir has to be declared save git directory\n",
    "\n",
    "proj_dir = \"/mnt/atlas02/projects/legend/sipm_qc\"\n",
    "dsp_dir = os.path.join(proj_dir, \"data/tier/dsp/ssc/p16/r008\")\n",
    "dsp_files = glob.glob(dsp_dir+\"/l200-*-tier_dsp.lh5\")\n",
    "dsp_files.sort()\n",
    "if len(dsp_files) == 0:\n",
    "    raise RuntimeError(f\"Found no files in {dsp_dir}\")\n",
    "#dsp_files = dsp_files[:50]\n",
    "metadata_dir = os.path.join(proj_dir, \"metadata/legend-metadata-schwarz\")\n",
    "lmeta  = LegendMetadata(metadata_dir)\n",
    "chmap = lmeta.channelmap(get_timestamp_from_filename(dsp_files[0]))\n",
    "chmap_sipm = chmap.map(\"system\", unique=False).spms\n",
    "#requires recent legend-datasets\n",
    "raw_keys = chmap_sipm.map(\"analysis.usability\", unique=False).on.map(\"daq.rawid\").keys()\n",
    "onlythese = [\"S011\", \"S080\", \"S085\", \"S086\", \"S092\"]\n",
    "if len(onlythese) > 0:\n",
    "    raw_keys = [chmap[k].daq.rawid for k in onlythese]"
   ]
  },
  {
   "cell_type": "code",
   "execution_count": null,
   "id": "2832c470",
   "metadata": {},
   "outputs": [],
   "source": [
    "energies = get_energies(dsp_files, raw_keys, chmap, take_pulser_from_normal=True)"
   ]
  },
  {
   "cell_type": "code",
   "execution_count": null,
   "id": "fcaa75f6",
   "metadata": {},
   "outputs": [],
   "source": [
    "# check here if we need a recalibration:\n",
    "if False:\n",
    "    calib, thresholds = read_override_file(os.path.join(metadata_dir, \"dataprod/overrides/hit/lar/p15/r004/l200-p15-r004-lar-T%-par_hit-overwrite.yaml\"))\n",
    "    calib_p16, ths_p16 = read_override_file(os.path.join(metadata_dir, \"dataprod/overrides/hit/lar/p16/r000/l200-p16-r000-lar-T%-par_hit-overwrite.yaml\"))\n",
    "    calib = calib | calib_p16 # merge re-calibrated SiPMs in\n",
    "    thresholds = thresholds | ths_p16 # also thresholds\n",
    "    calibrated_histos = get_calibrated_histograms(energies, calib, (0,5), 200)\n",
    "    _ = plot_all_pe_histograms_and_thresholds(calibrated_histos, thresholds, gridx=True)\n",
    "\n",
    "if False:\n",
    "    calib, thresholds = read_override_file(\"../out/temp_override.yaml\")\n",
    "    calibrated_histos = get_calibrated_histograms(energies, calib, (0,5), 200)\n",
    "    _ = plot_all_pe_histograms_and_thresholds(calibrated_histos, thresholds, gridx=True)"
   ]
  },
  {
   "cell_type": "code",
   "execution_count": null,
   "id": "a2789355",
   "metadata": {},
   "outputs": [],
   "source": [
    "config = load_config_file(os.path.join(proj_dir, \"sipm-autocalib/config/autocalib-p16-r008-conf.yaml\"))\n",
    "\n",
    "gen_hist_defaults = config[\"gen_hist_defaults\"]\n",
    "peakfinder_defaults = config[\"peakfinder_defaults\"]\n",
    "simple_calibration_defaults = config.get(\"simple_calibration_defaults\", {})\n",
    "advanced_calibration_defaults = config[\"advanced_calibration_defaults\"]\n",
    "gen_hist_overrides = config.get(\"gen_hist_overrides\", {})\n",
    "peakfinder_overrides = config.get(\"peakfinder_overrides\", {})\n",
    "simple_calibration_overrides = config.get(\"simple_calibration_overrides\", {})\n",
    "advanced_calibration_overrides = config.get(\"advanced_calibration_overrides\", {})"
   ]
  },
  {
   "cell_type": "code",
   "execution_count": null,
   "id": "8501d7a8",
   "metadata": {},
   "outputs": [],
   "source": [
    "gen_hist_defaults"
   ]
  },
  {
   "cell_type": "code",
   "execution_count": null,
   "id": "096244de",
   "metadata": {},
   "outputs": [],
   "source": [
    "simple_calib_output, _, _ = multi_simple_calibration(energies, gen_hist_defaults, peakfinder_defaults, {}, peakfinder_overrides=peakfinder_overrides, draw=True, nodraw_axes=True)"
   ]
  },
  {
   "cell_type": "code",
   "execution_count": null,
   "id": "c4721a95",
   "metadata": {},
   "outputs": [],
   "source": [
    "calibrated_histos = get_calibrated_histograms(energies, simple_calib_output, (0, 5), 200)\n",
    "_ = plot_all_pe_histograms(calibrated_histos)"
   ]
  },
  {
   "cell_type": "code",
   "execution_count": null,
   "id": "62e2f80b",
   "metadata": {},
   "outputs": [],
   "source": [
    "advanced_calib_output, _, _ = multi_advanced_calibration(calibrated_histos, get_calibrated_PE_positions(simple_calib_output), advanced_calibration_defaults, calibration_overrides=advanced_calibration_overrides, draw=True)"
   ]
  },
  {
   "cell_type": "code",
   "execution_count": null,
   "id": "273ebe91",
   "metadata": {},
   "outputs": [],
   "source": [
    "adv_calibrated_histos = get_calibrated_histograms(energies, combine_multiple_calibrations(simple_calib_output, advanced_calib_output), (0, 5), 200)\n",
    "thresholds = multi_valley_minima(adv_calibrated_histos, mimimum_position=0.4)\n",
    "_ = plot_all_pe_histograms_and_thresholds(adv_calibrated_histos, thresholds, gridx=True)"
   ]
  },
  {
   "cell_type": "markdown",
   "id": "8dea5070",
   "metadata": {},
   "source": [
    "## Store the final data into an override file"
   ]
  },
  {
   "cell_type": "code",
   "execution_count": null,
   "id": "87c8ce7a",
   "metadata": {},
   "outputs": [],
   "source": [
    "if False:\n",
    "    output_override_file(\"out/temp_override.yaml\", combine_multiple_calibrations(simple_calib_output, advanced_calib_output), thresholds)"
   ]
  },
  {
   "cell_type": "code",
   "execution_count": null,
   "id": "993ba06c",
   "metadata": {},
   "outputs": [],
   "source": []
  }
 ],
 "metadata": {
  "kernelspec": {
   "display_name": "sipm-autocalib (3.12.10)",
   "language": "python",
   "name": "python3"
  },
  "language_info": {
   "codemirror_mode": {
    "name": "ipython",
    "version": 3
   },
   "file_extension": ".py",
   "mimetype": "text/x-python",
   "name": "python",
   "nbconvert_exporter": "python",
   "pygments_lexer": "ipython3",
   "version": "3.12.10"
  }
 },
 "nbformat": 4,
 "nbformat_minor": 5
}
